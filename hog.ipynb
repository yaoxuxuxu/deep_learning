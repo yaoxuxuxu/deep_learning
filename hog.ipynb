{
 "cells": [
  {
   "attachments": {},
   "cell_type": "markdown",
   "metadata": {},
   "source": [
    "## 读取数据"
   ]
  },
  {
   "cell_type": "code",
   "execution_count": 1,
   "metadata": {},
   "outputs": [
    {
     "name": "stdout",
     "output_type": "stream",
     "text": [
      "训练集图像格式为: (50000, 28, 28) 训练集标签格式为: (50000,) 热编码训练集标签格式为: (50000, 10)\n",
      "验证集图像格式为: (10000, 28, 28) 验证集标签格式为: (10000,) 热编码验证集标签格式为: (10000, 10)\n",
      "测试集图像格式为: (10000, 28, 28) 测试集标签格式为: (10000,) 热编码测试集标签格式为: (10000, 10)\n"
     ]
    }
   ],
   "source": [
    "import torch\n",
    "from torch import nn\n",
    "import gzip\n",
    "import os\n",
    "import struct\n",
    "import numpy as np\n",
    "\n",
    "def load_mnist(path, kind='train'):\n",
    "    \"\"\"加载MNIST数据集\"\"\"\n",
    "    labels_path = os.path.join(path, f'{kind}-labels-idx1-ubyte.gz')\n",
    "    images_path = os.path.join(path, f'{kind}-images-idx3-ubyte.gz')\n",
    "\n",
    "    with gzip.open(labels_path, 'rb') as lbpath:\n",
    "        struct.unpack('>II', lbpath.read(8))\n",
    "        labels = np.frombuffer(lbpath.read(), dtype=np.uint8)\n",
    "\n",
    "    with gzip.open(images_path, 'rb') as imgpath:\n",
    "        struct.unpack('>IIII', imgpath.read(16))\n",
    "        images = np.frombuffer(imgpath.read(), dtype=np.uint8).reshape(len(labels),28,28)\n",
    "\n",
    "    return images, labels\n",
    "\n",
    "\n",
    "\n",
    "# 数据集划分\n",
    "def data_split(images, labels, ratio):\n",
    "    \n",
    "    total_len = images.shape[0]\n",
    "    offset = int(total_len * ratio)\n",
    "\n",
    "    val_img = images[:offset][:]\n",
    "    val_lb = labels[:offset]\n",
    "\n",
    "    train_img = images[offset:][:]\n",
    "    train_lb = labels[offset:]\n",
    "\n",
    "    return train_img, train_lb, val_img, val_lb    \n",
    "\n",
    "# 读取训练集和测试集数据\n",
    "[images, labels] = load_mnist('./MNIST', kind='train')\n",
    "[test_img, test_lb] = load_mnist('./MNIST',kind='test')\n",
    "train_img, train_lb, val_img, val_lb = data_split(images, labels, 1/6)\n",
    "\n",
    "#random_numbers = np.random.randint(50000, size=(2000, ))\n",
    "train_img=train_img#[random_numbers]\n",
    "# 对标签进行热编码\n",
    "one_hot_train_lb = np.eye(10)[train_lb]\n",
    "one_hot_val_lb = np.eye(10)[val_lb]\n",
    "one_hot_test_lb= np.eye(10)[test_lb]\n",
    "\n",
    "# 打印查看数据集格式\n",
    "print('训练集图像格式为:', train_img.shape, '训练集标签格式为:', train_lb.shape,'热编码训练集标签格式为:', one_hot_train_lb.shape)\n",
    "print('验证集图像格式为:', val_img.shape, '验证集标签格式为:', val_lb.shape,'热编码验证集标签格式为:', one_hot_val_lb.shape)\n",
    "print('测试集图像格式为:', test_img.shape, '测试集标签格式为:', test_lb.shape,'热编码测试集标签格式为:', one_hot_test_lb.shape)\n"
   ]
  },
  {
   "cell_type": "code",
   "execution_count": 2,
   "metadata": {},
   "outputs": [
    {
     "name": "stdout",
     "output_type": "stream",
     "text": [
      "(50000, 324)\n",
      "(10000, 324)\n"
     ]
    }
   ],
   "source": [
    "#calc hog as feature\n",
    "import cv2\n",
    "hog = cv2.HOGDescriptor(_winSize=(28,28),_blockSize=(14,14), _blockStride=(7,7), _cellSize=(7,7),_nbins=(9))\n",
    "def get_hog(x):\n",
    "    res = hog.compute(x)\n",
    "    return res\n",
    "new_train=[]\n",
    "for i in range(train_img.shape[0]):\n",
    "    new_train.append(get_hog(train_img[i]))\n",
    "train_img=np.array(new_train)\n",
    "new_test=[]\n",
    "for i in range(test_img.shape[0]):\n",
    "    new_test.append(get_hog(test_img[i]))\n",
    "test_img=np.array(new_test)\n",
    "\n",
    "print(train_img.shape)\n",
    "print(test_img.shape)"
   ]
  },
  {
   "attachments": {},
   "cell_type": "markdown",
   "metadata": {},
   "source": [
    "## 定义网络"
   ]
  },
  {
   "cell_type": "code",
   "execution_count": null,
   "metadata": {},
   "outputs": [],
   "source": []
  },
  {
   "cell_type": "code",
   "execution_count": 3,
   "metadata": {},
   "outputs": [],
   "source": [
    "class NeuralNetwork(nn.Module):\n",
    "    def __init__(self):\n",
    "\n",
    "        super().__init__()\n",
    "        self.w1=nn.Linear(324, 10)\n",
    "        self.drop=nn.Dropout(p=0.5)\n",
    "        self.relu=nn.ReLU()\n",
    "\n",
    "\n",
    "    def forward(self, x):\n",
    "        x = self.w1 (x)\n",
    "        x = self.relu(x)\n",
    "        return x\n",
    "\n",
    "model = NeuralNetwork()\n",
    "\n",
    "# Initialize the loss function\n",
    "loss_fn = nn.CrossEntropyLoss()\n",
    "\n",
    "learning_rate = 1e-3\n",
    "optimizer = torch.optim.Adam(model.parameters(), lr=learning_rate)\n",
    "\n"
   ]
  },
  {
   "attachments": {},
   "cell_type": "markdown",
   "metadata": {},
   "source": [
    "## 定义训练"
   ]
  },
  {
   "cell_type": "code",
   "execution_count": 4,
   "metadata": {},
   "outputs": [
    {
     "name": "stdout",
     "output_type": "stream",
     "text": [
      " Epoch:1, loss: 1.329697,  Accuracy: 72.0%\n",
      " Epoch:2, loss: 0.812622,  Accuracy: 76.9%\n",
      " Epoch:3, loss: 0.704620,  Accuracy: 79.0%\n",
      " Epoch:4, loss: 0.655989,  Accuracy: 80.7%\n",
      " Epoch:5, loss: 0.627537,  Accuracy: 81.9%\n",
      " Epoch:6, loss: 0.608587,  Accuracy: 82.8%\n",
      " Epoch:7, loss: 0.594914,  Accuracy: 83.5%\n",
      " Epoch:8, loss: 0.584531,  Accuracy: 84.0%\n",
      " Epoch:9, loss: 0.576382,  Accuracy: 84.4%\n",
      " Epoch:10, loss: 0.569848,  Accuracy: 84.7%\n",
      " Epoch:11, loss: 0.564514,  Accuracy: 85.0%\n",
      " Epoch:12, loss: 0.560048,  Accuracy: 85.2%\n",
      " Epoch:13, loss: 0.556253,  Accuracy: 85.4%\n",
      " Epoch:14, loss: 0.552988,  Accuracy: 85.6%\n",
      " Epoch:15, loss: 0.550143,  Accuracy: 85.7%\n",
      " Epoch:16, loss: 0.547652,  Accuracy: 85.9%\n",
      " Epoch:17, loss: 0.545431,  Accuracy: 86.0%\n",
      " Epoch:18, loss: 0.543432,  Accuracy: 86.1%\n",
      " Epoch:19, loss: 0.541635,  Accuracy: 86.2%\n",
      " Epoch:20, loss: 0.540002,  Accuracy: 86.3%\n"
     ]
    }
   ],
   "source": [
    "\n",
    "batch_size = 100\n",
    "epochs = 20\n",
    "batch_num=int(train_img.shape[0]/batch_size)\n",
    "size = len(train_img)\n",
    "\n",
    "model.train()\n",
    "for t in range(epochs):\n",
    "    \n",
    "    correct=0.\n",
    "    train_mean_loss=0.\n",
    "\n",
    "    for batch in range(batch_num):\n",
    "        X=train_img[batch*batch_size:(batch+1)*batch_size,]\n",
    "        y=one_hot_train_lb[batch*batch_size:(batch+1)*batch_size,:]\n",
    "\n",
    "        X=torch.tensor(X, dtype=torch.float32)\n",
    "        y=torch.tensor(y, dtype=torch.float32)\n",
    "\n",
    "        # Compute prediction and loss\n",
    "        pred = model(X).type(torch.float)\n",
    "        loss = loss_fn(pred, y)\n",
    "\n",
    "        # Backpropagation\n",
    "        loss.backward()\n",
    "        optimizer.step()\n",
    "        optimizer.zero_grad()\n",
    "        \n",
    "        correct += (pred.argmax(1) == y.argmax(1)).type(torch.float).mean().item()\n",
    "        train_mean_loss+= loss.item()\n",
    "\n",
    "    train_mean_loss /= batch_num\n",
    "    correct /= batch_num\n",
    "    \n",
    "    print(f\" Epoch:{t+1}, loss: {train_mean_loss:>8f},  Accuracy: {(100*correct):>0.1f}%\")\n"
   ]
  },
  {
   "attachments": {},
   "cell_type": "markdown",
   "metadata": {},
   "source": [
    "## 定义测试"
   ]
  },
  {
   "cell_type": "code",
   "execution_count": 5,
   "metadata": {},
   "outputs": [
    {
     "name": "stdout",
     "output_type": "stream",
     "text": [
      "Test Accuracy: 86.8%, Test Avg loss: 0.530638 \n",
      "\n"
     ]
    }
   ],
   "source": [
    "model.eval()\n",
    "test_loss, correct = 0, 0\n",
    "with torch.no_grad():\n",
    "        X=torch.tensor(test_img, dtype=torch.float32)\n",
    "        y=torch.tensor(one_hot_test_lb, dtype=torch.float32)\n",
    "        pred = model(X)\n",
    "        test_loss = np.mean(loss_fn(pred, y).item())\n",
    "        correct = (pred.argmax(1) == y.argmax(1)).type(torch.float).mean().item()\n",
    "\n",
    "print(f\"Test Accuracy: {(100*correct):>0.1f}%, Test Avg loss: {test_loss:>8f} \\n\")\n"
   ]
  },
  {
   "cell_type": "raw",
   "metadata": {},
   "source": []
  },
  {
   "cell_type": "code",
   "execution_count": null,
   "metadata": {},
   "outputs": [],
   "source": []
  }
 ],
 "metadata": {
  "kernelspec": {
   "display_name": "Python 3 (ipykernel)",
   "language": "python",
   "name": "python3"
  },
  "language_info": {
   "codemirror_mode": {
    "name": "ipython",
    "version": 3
   },
   "file_extension": ".py",
   "mimetype": "text/x-python",
   "name": "python",
   "nbconvert_exporter": "python",
   "pygments_lexer": "ipython3",
   "version": "3.10.13"
  }
 },
 "nbformat": 4,
 "nbformat_minor": 4
}
