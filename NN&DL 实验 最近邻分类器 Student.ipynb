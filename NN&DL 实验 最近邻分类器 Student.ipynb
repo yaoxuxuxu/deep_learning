{
 "cells": [
  {
   "attachments": {},
   "cell_type": "markdown",
   "id": "a296724e",
   "metadata": {},
   "source": [
    "# 实验一 最近邻分类器"
   ]
  },
  {
   "attachments": {},
   "cell_type": "markdown",
   "id": "699ecd93",
   "metadata": {},
   "source": [
    "将下面的代码补充完整，实现使用最近邻分类器功能"
   ]
  },
  {
   "attachments": {},
   "cell_type": "markdown",
   "id": "d0ad1f84",
   "metadata": {},
   "source": [
    "## 读取MNIST数据集，并将其划分为train/val/test数据集"
   ]
  },
  {
   "attachments": {},
   "cell_type": "markdown",
   "id": "52a4f88a",
   "metadata": {},
   "source": [
    "### MNIST数据集读取"
   ]
  },
  {
   "cell_type": "code",
   "execution_count": 9,
   "id": "8f545d57",
   "metadata": {},
   "outputs": [],
   "source": [
    "import gzip\n",
    "import os\n",
    "import struct\n",
    "import numpy as np\n",
    "\n",
    "def load_mnist(path, kind='./MNIST/train'):\n",
    "    \"\"\"加载MNIST数据集\"\"\"\n",
    "    labels_path = os.path.join(path, f'{kind}-labels-idx1-ubyte.gz')\n",
    "    images_path = os.path.join(path, f'{kind}-images-idx3-ubyte.gz')\n",
    "\n",
    "    with gzip.open(labels_path, 'rb') as lbpath:\n",
    "        struct.unpack('>II', lbpath.read(8))\n",
    "        labels = np.frombuffer(lbpath.read(), dtype=np.uint8)\n",
    "\n",
    "    with gzip.open(images_path, 'rb') as imgpath:\n",
    "        struct.unpack('>IIII', imgpath.read(16))\n",
    "        images = np.frombuffer(imgpath.read(), dtype=np.uint8).reshape(len(labels), 784)\n",
    "\n",
    "    return images, labels\n",
    "\n",
    "\n",
    "\n",
    "# 数据集划分\n",
    "def data_split(images, labels, ratio):\n",
    "    \n",
    "    total_len = images.shape[0]\n",
    "    offset = int(total_len * ratio)\n",
    "    \n",
    "    val_img = images[:offset][:]\n",
    "    val_lb = labels[:offset]\n",
    "    \n",
    "    train_img = images[offset:][:]\n",
    "    train_lb = labels[offset:]\n",
    "    \n",
    "    return train_img, train_lb, val_img, val_lb   \n"
   ]
  },
  {
   "attachments": {},
   "cell_type": "markdown",
   "id": "27731d8f",
   "metadata": {},
   "source": [
    "### 按照 5:1:1 划分为训练集，验证集，测试集\n"
   ]
  },
  {
   "cell_type": "code",
   "execution_count": 10,
   "id": "56e3880e",
   "metadata": {},
   "outputs": [
    {
     "name": "stdout",
     "output_type": "stream",
     "text": [
      "训练集图像格式为: (50000, 784) 训练集标签格式为: (50000,)\n",
      "验证集图像格式为: (10000, 784) 验证集标签格式为: (10000,)\n",
      "测试集图像格式为: (10000, 784) 测试集标签格式为: (10000,)\n"
     ]
    }
   ],
   "source": [
    "# 读取训练集和测试集数据\n",
    "[images, labels] = load_mnist('./MNIST', kind='train')\n",
    "[test_img, test_lb] = load_mnist('./MNIST',kind='test')\n",
    "train_img, train_lb, val_img, val_lb = data_split(images, labels, 1/6)\n",
    "\n",
    "\n",
    "# 打印查看数据集格式\n",
    "print('训练集图像格式为:', train_img.shape, '训练集标签格式为:', train_lb.shape)\n",
    "print('验证集图像格式为:', val_img.shape, '验证集标签格式为:', val_lb.shape)\n",
    "print('测试集图像格式为:', test_img.shape, '测试集标签格式为:', test_lb.shape)"
   ]
  },
  {
   "attachments": {},
   "cell_type": "markdown",
   "id": "1d18269a",
   "metadata": {},
   "source": [
    "## Nearest Neighbor Classifier"
   ]
  },
  {
   "attachments": {},
   "cell_type": "markdown",
   "id": "94a40fc9",
   "metadata": {},
   "source": [
    "### 定义 Nearest Neighbor Classifier"
   ]
  },
  {
   "cell_type": "code",
   "execution_count": 11,
   "id": "348eabf1",
   "metadata": {},
   "outputs": [],
   "source": [
    "import numpy as np\n",
    "\n",
    "class NearestNeighbor(object):\n",
    "    def __init__(self):\n",
    "        pass\n",
    "    \n",
    "    # 读入图像和标签数据并保存\n",
    "    def train(self, X, y):\n",
    "        # X is N x D and Y is 1-dimension of size N\n",
    "        self.Xtrain = X\n",
    "        self.ytrain = y\n",
    "    \n",
    "    # 按照最近邻原则分类\n",
    "    def predict(self, X):\n",
    "        # X is N x D where each row is an example we wish to predict label for\n",
    "        num_test = X.shape[0]\n",
    "        Ypred = np.zeros((num_test, 1), dtype=self.ytrain.dtype)\n",
    "        \n",
    "        for i in range(num_test):\n",
    "            distances=np.sum(np.abs(self.Xtrain-X[i,:]),axis=1)\n",
    "            min_index=np.argmin(distances)\n",
    "            Ypred[i]=self.ytrain[min_index]\n",
    "\n",
    "\n",
    "\n",
    "\n",
    "\n",
    "\n",
    "\n",
    "        return Ypred\n",
    "\n"
   ]
  },
  {
   "attachments": {},
   "cell_type": "markdown",
   "id": "d9c98a7f",
   "metadata": {},
   "source": [
    "### 测试 Nearest Neighbor Classifier"
   ]
  },
  {
   "cell_type": "code",
   "execution_count": 14,
   "id": "a77bf1af",
   "metadata": {},
   "outputs": [
    {
     "name": "stdout",
     "output_type": "stream",
     "text": [
      "2448\n",
      "accuracy: 0.244800\n"
     ]
    }
   ],
   "source": [
    "# 实例化Nearest Neighbor Classifier\n",
    "nn = NearestNeighbor()\n",
    "nn.train(train_img[0:1000],train_lb[0:1000])#选1000个数据，进行测试\n",
    "Yval_predict = nn.predict(val_img)\n",
    "cnt=0\n",
    "for i in range(len(Yval_predict)):\n",
    "    if Yval_predict[i]==val_lb[i]:    \n",
    "        cnt+=1\n",
    "print(cnt)\n",
    "# 在验证集上测试精确度\n",
    "validation_accuracy = cnt/len(Yval_predict)\n",
    "print ('accuracy: %f' % (validation_accuracy ,))"
   ]
  },
  {
   "cell_type": "raw",
   "id": "dcc6edd5-f88c-4522-b55b-36bb80e1498d",
   "metadata": {},
   "source": [
    "最终准确率24.45%\n",
    "最近邻分类器的分类效果非常差\n",
    "虽然实现简单，但是不能用于复杂的问题"
   ]
  }
 ],
 "metadata": {
  "kernelspec": {
   "display_name": "Python 3 (ipykernel)",
   "language": "python",
   "name": "python3"
  },
  "language_info": {
   "codemirror_mode": {
    "name": "ipython",
    "version": 3
   },
   "file_extension": ".py",
   "mimetype": "text/x-python",
   "name": "python",
   "nbconvert_exporter": "python",
   "pygments_lexer": "ipython3",
   "version": "3.10.13"
  },
  "toc": {
   "base_numbering": 1,
   "nav_menu": {},
   "number_sections": true,
   "sideBar": true,
   "skip_h1_title": false,
   "title_cell": "Table of Contents",
   "title_sidebar": "Contents",
   "toc_cell": false,
   "toc_position": {},
   "toc_section_display": true,
   "toc_window_display": false
  },
  "varInspector": {
   "cols": {
    "lenName": 16,
    "lenType": 16,
    "lenVar": 40
   },
   "kernels_config": {
    "python": {
     "delete_cmd_postfix": "",
     "delete_cmd_prefix": "del ",
     "library": "var_list.py",
     "varRefreshCmd": "print(var_dic_list())"
    },
    "r": {
     "delete_cmd_postfix": ") ",
     "delete_cmd_prefix": "rm(",
     "library": "var_list.r",
     "varRefreshCmd": "cat(var_dic_list()) "
    }
   },
   "types_to_exclude": [
    "module",
    "function",
    "builtin_function_or_method",
    "instance",
    "_Feature"
   ],
   "window_display": false
  }
 },
 "nbformat": 4,
 "nbformat_minor": 5
}
